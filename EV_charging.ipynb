{
  "cells": [
    {
      "cell_type": "code",
      "execution_count": 2,
      "metadata": {
        "id": "7F5MHOAcj1HX"
      },
      "outputs": [],
      "source": [
        "import numpy as np\n",
        "import numpy.random\n",
        "import scipy.stats as ss\n",
        "import matplotlib.pyplot as plt\n",
        "import csv\n",
        "import pandas as pd"
      ]
    },
    {
      "cell_type": "code",
      "execution_count": 7,
      "metadata": {},
      "outputs": [
        {
          "data": {
            "text/plain": [
              "array([4., 4., 4., 4., 4.])"
            ]
          },
          "execution_count": 7,
          "metadata": {},
          "output_type": "execute_result"
        }
      ],
      "source": [
        "4*np.ones((5,))"
      ]
    },
    {
      "cell_type": "code",
      "execution_count": 2,
      "metadata": {
        "id": "oiCI3vAJkLGI"
      },
      "outputs": [],
      "source": [
        "def charging_session(n): #Simulate Charging session from distribution\n",
        "    norm_params = np.array([[5, 1],\n",
        "                            [1, 1.3],\n",
        "                            [9, 1.3]])\n",
        "    n_components = norm_params.shape[0]\n",
        "    # Weight of each component, in this case all of them are 1/3\n",
        "    weights = np.ones(n_components, dtype=np.float64) / 3.0\n",
        "    # A stream of indices from which to choose the component\n",
        "    mixture_idx = numpy.random.choice(len(weights), size=n, replace=True, p=weights)\n",
        "    print(np.shape(mixture_idx))\n",
        "    # y is the mixture sample\n",
        "    y = numpy.fromiter((ss.norm.rvs(*(norm_params[i])) for i in mixture_idx),\n",
        "                       dtype=np.float64)\n",
        "\n",
        "    # Theoretical PDF plotting -- generate the x and y plotting positions\n",
        "    xs = np.linspace(y.min(), y.max(), 200)\n",
        "    ys = np.zeros_like(xs)\n",
        "    print(np.shape(ys))\n",
        "\n",
        "    for (l, s), w in zip(norm_params, weights):\n",
        "        ys += ss.norm.pdf(xs, loc=l, scale=s) * w\n",
        "\n",
        "    plt.plot(xs, ys)\n",
        "    plt.hist(y, normed=True, bins=\"fd\")\n",
        "    plt.xlabel(\"x\")\n",
        "    plt.ylabel(\"f(x)\")\n",
        "    plt.show()\n",
        "\n",
        "    arr_time=ys\n",
        "    dep_time=xs\n",
        "\n",
        "    return arr_time, dep_time\n",
        "\n",
        "def charging_session_individual(lambda_val, vehicle_capacity): #Simulate Charging session from distribution\n",
        "    arr_time=(np.random.poisson(lam=lambda_val)+5.0)*12.0+np.random.randint(0.0, 12.0)\n",
        "    sess_time=np.random.randint(1.0, 15.0)*12.0+np.random.randint(0.0, 12.0)\n",
        "    init_cap=np.random.uniform(0.0, vehicle_capacity-1.0)\n",
        "    req_energy=np.random.uniform(init_cap+0.5, vehicle_capacity)\n",
        "    return arr_time, sess_time, init_cap, req_energy"
      ]
    },
    {
      "cell_type": "code",
      "execution_count": 27,
      "metadata": {
        "id": "eA9QaDUAkNIF"
      },
      "outputs": [],
      "source": [
        "#One day has 24*4(15 minutes) = 96 slots\n",
        "n = 10000\n",
        "np.random.seed(0)\n",
        "num_steps = 96\n",
        "decay_rate = 0.05\n",
        "max_power = 0.6\n",
        "\n",
        "total_vehicles = 50\n",
        "battery_capacity = 8.0\n",
        "power_capacity = 4"
      ]
    },
    {
      "cell_type": "code",
      "execution_count": 28,
      "metadata": {
        "id": "Dj-5tomIkP8V"
      },
      "outputs": [],
      "source": [
        "arrival_time=np.random.poisson(lam=9.0, size=(total_vehicles,))\n",
        "arrival_time = np.sort(arrival_time)*4.0\n",
        "arrival_time =arrival_time+np.random.randint(0, 4, size=(total_vehicles,))\n",
        "arrival_time = np.sort(arrival_time) #Session is defined based on arrival time\n",
        "depart_time = np.random.randint(6, 36, size=(total_vehicles,))\n",
        "depart_time = np.min((arrival_time+depart_time, np.ones_like(arrival_time)*96), axis=0)"
      ]
    },
    {
      "cell_type": "code",
      "execution_count": 43,
      "metadata": {
        "colab": {
          "base_uri": "https://localhost:8080/",
          "height": 715
        },
        "id": "6mHwIuh2kaTa",
        "outputId": "19c912df-80bd-458a-ff12-000e75a6b34b"
      },
      "outputs": [
        {
          "data": {
            "image/png": "[encoded data removed]",
            "text/plain": [
              "<Figure size 432x864 with 3 Axes>"
            ]
          },
          "metadata": {
            "needs_background": "light"
          },
          "output_type": "display_data"
        }
      ],
      "source": [
        "f, axs = plt.subplots(3, 1, figsize=(6, 12))\n",
        "plt.subplot(3, 1, 1)\n",
        "plt.hist(arrival_time, bins=10)\n",
        "plt.xlabel(\"arrival_time\")\n",
        "\n",
        "plt.subplot(3, 1, 2)\n",
        "plt.hist(depart_time, bins=10)\n",
        "plt.xlabel(\"depart_time\")\n",
        "\n",
        "plt.subplot(3, 1, 3)\n",
        "plt.hist(depart_time - arrival_time, bins=10)\n",
        "plt.xlabel(\"stay_time\")\n",
        "plt.show()"
      ]
    },
    {
      "cell_type": "code",
      "execution_count": 29,
      "metadata": {
        "colab": {
          "base_uri": "https://localhost:8080/",
          "height": 714
        },
        "id": "kb8CoxgHkeFJ",
        "outputId": "99e03255-db78-4a87-e630-e5824993ba79"
      },
      "outputs": [
        {
          "data": {
            "image/png": "[encoded data removed]",
            "text/plain": [
              "<Figure size 432x864 with 3 Axes>"
            ]
          },
          "metadata": {
            "needs_background": "light"
          },
          "output_type": "display_data"
        }
      ],
      "source": [
        "np.random.seed(0)\n",
        "# initial battery energy level 10%~50%\n",
        "initial_state=np.random.uniform(0.8, 4.0, size=(total_vehicles,))\n",
        "# required energy 25%~75%\n",
        "required_energy=np.random.uniform(2.0, 6.0, size=(total_vehicles,))\n",
        "# final energy is upper bounded by the battery_capacity\n",
        "final_energy = np.min((initial_state+required_energy, np.ones_like(initial_state)*battery_capacity), axis=0)\n",
        "required_energy = np.round(final_energy-initial_state, 2)\n",
        "\n",
        "# print(\"initial State\", initial_state)\n",
        "# print(\"Required energy\", required_energy)\n",
        "# print(\"Final state\", final_energy)\n",
        "fig, ax = plt.subplots(3, 1, figsize=(6, 12))\n",
        "plt.subplot(3, 1, 1)\n",
        "plt.hist(initial_state/8, bins=20)\n",
        "plt.xlim([0.1, 0.5])\n",
        "plt.xlabel(\"Initial SoC Level\")\n",
        "plt.ylabel(\"Counts\")\n",
        "\n",
        "plt.subplot(3, 1, 2)\n",
        "plt.hist(required_energy/8, bins=20)\n",
        "plt.xlabel(\"Required Energy\")\n",
        "plt.ylabel(\"Counts\")\n",
        "\n",
        "plt.subplot(3, 1, 3)\n",
        "plt.hist(final_energy/8, bins=20)\n",
        "plt.xlabel(\"Final SoC Level\")\n",
        "plt.ylabel(\"Counts\")\n",
        "plt.show()"
      ]
    },
    {
      "cell_type": "code",
      "execution_count": 38,
      "metadata": {
        "colab": {
          "base_uri": "https://localhost:8080/"
        },
        "id": "J-SbEC2Hc2bK",
        "outputId": "273f7f7b-bc08-4970-8fd6-032016088754"
      },
      "outputs": [],
      "source": [
        "initial_state = np.copy(initial_state)\n",
        "u_mpc_online = np.zeros((total_vehicles, num_steps), dtype=float)\n",
        "x_mpc_online = np.zeros((total_vehicles, num_steps+1), dtype=float)\n",
        "x_mpc_online[:, 0:int(arrival_time[0])+2] = initial_state.reshape((-1, 1))"
      ]
    },
    {
      "cell_type": "code",
      "execution_count": 81,
      "metadata": {},
      "outputs": [],
      "source": [
        "x,u = naive3(num_of_vehicles=total_vehicles, timesteps=num_steps, initial_states=initial_state, max_power=max_power, terminal_states=final_energy, arrival_time=arrival_time, dept_time=depart_time, power_capacity=power_capacity, decay_rate=decay_rate,aware=True)"
      ]
    },
    {
      "cell_type": "code",
      "execution_count": 62,
      "metadata": {},
      "outputs": [
        {
          "data": {
            "text/plain": [
              "array([6.83699029, 6.84301203, 8.        , 4.95180543, 4.99120238,\n",
              "       5.51209923, 6.81271238, 6.66684001, 7.74896393, 5.00471523,\n",
              "       5.96939846, 4.93396431, 7.24306095, 6.31464105, 3.81364483,\n",
              "       4.55371444, 6.14867179, 5.85278861, 8.        , 5.96843251,\n",
              "       8.        , 7.23191221, 8.        , 7.71707544, 6.13553248,\n",
              "       5.00449844, 4.38995837, 6.30372678, 5.65447542, 4.60182908,\n",
              "       4.91851068, 6.93459978, 4.51627105, 7.38887711, 5.12653318,\n",
              "       5.83799155, 6.85169853, 5.14995083, 8.        , 8.        ,\n",
              "       5.22470109, 6.86814377, 5.55961128, 5.85803033, 6.09127786,\n",
              "       5.67880663, 5.81927593, 3.29299434, 7.12513084, 3.98265637])"
            ]
          },
          "execution_count": 62,
          "metadata": {},
          "output_type": "execute_result"
        }
      ],
      "source": [
        "final_energy"
      ]
    },
    {
      "cell_type": "code",
      "execution_count": 82,
      "metadata": {},
      "outputs": [
        {
          "data": {
            "text/plain": [
              "(177.35630831312125, 150.22975919069694, 150.22975919069694)"
            ]
          },
          "execution_count": 82,
          "metadata": {},
          "output_type": "execute_result"
        }
      ],
      "source": [
        "np.sum(final_energy)-np.sum(initial_state), np.sum(np.max(x,axis=1))-np.sum(x[:,0]), np.sum(u[:,:])"
      ]
    },
    {
      "cell_type": "code",
      "execution_count": 83,
      "metadata": {},
      "outputs": [
        {
          "data": {
            "image/png": "[encoded data removed]",
            "text/plain": [
              "<Figure size 432x288 with 1 Axes>"
            ]
          },
          "metadata": {
            "needs_background": "light"
          },
          "output_type": "display_data"
        }
      ],
      "source": [
        "plt.plot(x[10,:],label='x')\n",
        "plt.plot(u[10,:],label='u')\n",
        "plt.legend()\n",
        "plt.show()"
      ]
    },
    {
      "cell_type": "code",
      "execution_count": 1,
      "metadata": {},
      "outputs": [
        {
          "ename": "NameError",
          "evalue": "name 'np' is not defined",
          "output_type": "error",
          "traceback": [
            "\u001b[0;31m---------------------------------------------------------------------------\u001b[0m",
            "\u001b[0;31mNameError\u001b[0m                                 Traceback (most recent call last)",
            "Input \u001b[0;32mIn [1]\u001b[0m, in \u001b[0;36m<cell line: 1>\u001b[0;34m()\u001b[0m\n\u001b[0;32m----> 1\u001b[0m \u001b[43mnp\u001b[49m\u001b[38;5;241m.\u001b[39mrandom\u001b[38;5;241m.\u001b[39muniform(\u001b[38;5;241m0.8\u001b[39m, \u001b[38;5;241m4.0\u001b[39m, size\u001b[38;5;241m=\u001b[39m(total_vehicles,))\n",
            "\u001b[0;31mNameError\u001b[0m: name 'np' is not defined"
          ]
        }
      ],
      "source": [
        "np.random.uniform(0.8, 4.0, size=(total_vehicles,))"
      ]
    },
    {
      "cell_type": "code",
      "execution_count": 79,
      "metadata": {
        "colab": {
          "base_uri": "https://localhost:8080/"
        },
        "id": "U_acuv32AK2y",
        "outputId": "b056d966-c69b-48ae-c968-c8f9fb6bfcb0"
      },
      "outputs": [],
      "source": [
        "def naive3(num_of_vehicles, timesteps, initial_states, max_power, terminal_states, arrival_time, dept_time, power_capacity, decay_rate,aware=False):\n",
        "    \n",
        "    initial_states = np.copy(initial_states)\n",
        "    u_mpc_online = np.zeros((num_of_vehicles, timesteps), dtype=float)\n",
        "    x_mpc_online = np.zeros((num_of_vehicles, timesteps+1), dtype=float)\n",
        "    x_mpc_online[:,:] = initial_states.reshape((-1, 1))\n",
        "    if aware: max_u = max_power * np.ones((num_of_vehicles,)) - decay_rate * initial_states\n",
        "    else: max_u = max_power\n",
        "\n",
        "    for t in range(int(arrival_time[0]), timesteps-5):\n",
        "        power_budget = power_capacity\n",
        "        vehicle_ending_index = (arrival_time < t).sum()\n",
        "        available_vehicle_idx = np.array([i for i in range(vehicle_ending_index) if dept_time[i] > t and x_mpc_online[i,t] < terminal_states[i]])\n",
        "        if len(available_vehicle_idx) == 0:\n",
        "            continue\n",
        "        u_val = np.zeros((len(available_vehicle_idx),))\n",
        "        charging_sesson = 0\n",
        "        while power_budget >= 0:\n",
        "            vehicle_idx = available_vehicle_idx[charging_sesson]\n",
        "            if aware: available_charging = np.minimum(max_u[vehicle_idx], power_budget)\n",
        "            else: available_charging = np.minimum(max_u, power_budget)\n",
        "            #print(f'at time {t}, vehicle{vehicle_idx} can charge {available_charging}')\n",
        "            available_charging = np.minimum(terminal_states[vehicle_idx]-x_mpc_online[vehicle_idx,t], available_charging)\n",
        "            #print(f'at time {t}, vehicle{vehicle_idx} can charge {available_charging}')\n",
        "            u_val[charging_sesson] = np.maximum(available_charging, 0)\n",
        "            power_budget -= u_val[charging_sesson]\n",
        "            # check availability\n",
        "            u_hat = max_power - decay_rate*x_mpc_online[vehicle_idx, t]\n",
        "            u_mpc_online[vehicle_idx,t] = np.minimum(u_hat, u_val[charging_sesson])\n",
        "            x_mpc_online[vehicle_idx,t+1:] = x_mpc_online[vehicle_idx,t] + u_mpc_online[vehicle_idx,t]\n",
        "            charging_sesson += 1\n",
        "            if charging_sesson >= len(available_vehicle_idx):\n",
        "                break\n",
        "        #u_hat = max_power - decay_rate*x_mpc_online[available_vehicle_idx, t]\n",
        "        #print(f'at time {t}, vehicle{vehicle_idx} can charge {u_hat}, the previous SoC is {x_mpc_online[available_vehicle_idx, t]}')\n",
        "        #u_mpc_online[available_vehicle_idx,t] = np.minimum(u_hat[:], u_val[:])\n",
        "        #print(u_val[:], u_hat, u_mpc_online[available_vehicle_idx,t])\n",
        "        #x_mpc_online[available_vehicle_idx, t+1] = x_mpc_online[available_vehicle_idx, t] + u_mpc_online[available_vehicle_idx, t]\n",
        "\n",
        "    return x_mpc_online, u_mpc_online"
      ]
    },
    {
      "cell_type": "markdown",
      "metadata": {
        "id": "HFYYFkid5uuK"
      },
      "source": [
        "### Simple Online Algorithm"
      ]
    },
    {
      "cell_type": "code",
      "execution_count": 10,
      "metadata": {
        "id": "QC_rayCx_6Ej"
      },
      "outputs": [
        {
          "name": "stdout",
          "output_type": "stream",
          "text": [
            "Current time 11\n",
            "current number of arrived cars 1 current number of charging cars 1\n"
          ]
        },
        {
          "ename": "NameError",
          "evalue": "name 'x_mpc_online' is not defined",
          "output_type": "error",
          "traceback": [
            "\u001b[0;31m---------------------------------------------------------------------------\u001b[0m",
            "\u001b[0;31mNameError\u001b[0m                                 Traceback (most recent call last)",
            "Input \u001b[0;32mIn [10]\u001b[0m, in \u001b[0;36m<cell line: 4>\u001b[0;34m()\u001b[0m\n\u001b[1;32m     15\u001b[0m \u001b[38;5;28mprint\u001b[39m(\u001b[38;5;124m\"\u001b[39m\u001b[38;5;124mcurrent number of arrived cars\u001b[39m\u001b[38;5;124m\"\u001b[39m, vehicle_ending_index, \u001b[38;5;124m\"\u001b[39m\u001b[38;5;124mcurrent number of charging cars\u001b[39m\u001b[38;5;124m\"\u001b[39m, step_num_of_vehicles)\n\u001b[1;32m     17\u001b[0m \u001b[38;5;66;03m## Obtain initial energy level of all cars\u001b[39;00m\n\u001b[0;32m---> 18\u001b[0m step_initial_SOC \u001b[38;5;241m=\u001b[39m np\u001b[38;5;241m.\u001b[39mcopy(\u001b[43mx_mpc_online\u001b[49m[vehicle_starting_index:vehicle_ending_index, t])\n\u001b[1;32m     19\u001b[0m \u001b[38;5;66;03m## Obtain required energy level of all cars\u001b[39;00m\n\u001b[1;32m     20\u001b[0m step_terminal_SOC \u001b[38;5;241m=\u001b[39m np\u001b[38;5;241m.\u001b[39mcopy(terminal_state_MPC[vehicle_starting_index:vehicle_ending_index])\n",
            "\u001b[0;31mNameError\u001b[0m: name 'x_mpc_online' is not defined"
          ]
        }
      ],
      "source": [
        "decay_rate = 0.05\n",
        "power_budget = power_capacity \n",
        "\n",
        "for t in range(int(arrival_time[0]), num_steps-7):\n",
        "    \n",
        "    #Change this for variable case\n",
        "    power_budget = power_capacity \n",
        "\n",
        "    print(\"Current time\", t)\n",
        "\n",
        "    ## Cars [1, ..., VEI] arrive before the scheduling time \n",
        "    vehicle_ending_index = (arrival_time <= t).sum()\n",
        "    vehicle_starting_index = total_vehicles - (depart_time > t).sum()\n",
        "    step_num_of_vehicles = vehicle_ending_index - vehicle_starting_index\n",
        "    print(\"current number of arrived cars\", vehicle_ending_index, \"current number of charging cars\", step_num_of_vehicles)\n",
        "    \n",
        "    ## Obtain initial energy level of all cars\n",
        "    step_initial_SOC = np.copy(x_mpc_online[vehicle_starting_index:vehicle_ending_index, t])\n",
        "    ## Obtain required energy level of all cars\n",
        "    step_terminal_SOC = np.copy(terminal_state_MPC[vehicle_starting_index:vehicle_ending_index])\n",
        "    \n",
        "    ## Obtain arrival departure time for all current cars\n",
        "    arrival_schedule=np.copy(arrival_time[vehicle_starting_index:vehicle_ending_index])\n",
        "    depart_schedule=np.copy(depart_time[vehicle_starting_index:vehicle_ending_index])\n",
        "    # print('initial soc', step_initial_SOC)\n",
        "    # print('terminal soc', step_terminal_SOC)\n",
        "    # print('arrival_schedule', arrival_schedule)\n",
        "    # print('depart_schedule', depart_schedule)\n",
        "\n",
        "    x_index, u_index = MPC_Solver(num_of_vehicles = step_num_of_vehicles, timesteps = num_steps-t, \n",
        "               initial_states = step_initial_SOC, terminal_states = step_terminal_SOC, \n",
        "               max_power = max_power, arrival_time = arrival_schedule-t, dept_time = depart_schedule-t, \n",
        "               power_capacity = power_budget, plot_fig = False)\n",
        "    \n",
        "\n",
        "    # compute the maximum charging rate (soc curve)\n",
        "    u_hat = max_power - decay_rate*x_mpc_online[vehicle_starting_index:vehicle_ending_index, t]/battery_capacity\n",
        "\n",
        "    u_mpc_online[vehicle_starting_index:vehicle_ending_index, t] = np.minimum(u_index[:, 0], u_hat)"
      ]
    },
    {
      "cell_type": "markdown",
      "metadata": {
        "id": "jc7_XUTvcl1z"
      },
      "source": [
        "### Offline Algorithm"
      ]
    },
    {
      "cell_type": "code",
      "execution_count": 71,
      "metadata": {
        "id": "XAljAw-Tl52R"
      },
      "outputs": [],
      "source": [
        "import cvxpy as cp\n",
        "num_of_vehicles = total_vehicles\n",
        "timesteps = num_steps \n",
        "initial_states = initial_state\n",
        "terminal_states = final_energy\n",
        "dept_time = depart_time"
      ]
    },
    {
      "cell_type": "code",
      "execution_count": 62,
      "metadata": {
        "id": "AekhTn3WrxyS"
      },
      "outputs": [],
      "source": [
        "# Requested end SoC for all vehicles\n",
        "x_terminal=cp.Parameter(num_of_vehicles, name='x_terminal')\n",
        "# Initial SoC for all vehicles\n",
        "x0 = cp.Parameter(num_of_vehicles, name='x0')\n",
        "# Peak charging power for the infrastructure\n",
        "max_sum_u = cp.Parameter(name='max_sum_u')\n",
        "# Maximum charging power for each vehicle at each time step\n",
        "u_max = cp.Parameter(name='u_max')\n",
        "# SoC at each time step for each vehicle\n",
        "x = cp.Variable((num_of_vehicles, timesteps+1), name='x')\n",
        "# charging power at each time step for each vehicle\n",
        "u = cp.Variable((num_of_vehicles, timesteps), name='u')\n",
        "\n",
        "x_terminal.value=terminal_states\n",
        "x0.value = initial_states\n",
        "max_sum_u.value = power_capacity\n",
        "u_max.value = max_power"
      ]
    },
    {
      "cell_type": "code",
      "execution_count": 63,
      "metadata": {
        "id": "v8_ytCM5l29z"
      },
      "outputs": [
        {
          "name": "stderr",
          "output_type": "stream",
          "text": [
            "/Users/bb/opt/anaconda3/envs/ev1/lib/python3.8/site-packages/cvxpy/problems/problem.py:1333: UserWarning: Solution may be inaccurate. Try another solver, adjusting the solver settings, or solve with verbose=True for more information.\n",
            "  warnings.warn(\n"
          ]
        }
      ],
      "source": [
        "obj = 0\n",
        "decay_rate = 0.05\n",
        "constr = [x[:,0] == x0, \n",
        "          x[:,-1] <= x_terminal]\n",
        "\n",
        "for i in range(num_of_vehicles):\n",
        "    constr += [x[i,1:] == x[i,0:timesteps] + u[i,:],\n",
        "        u[i,:] >= 0,\n",
        "    ]\n",
        "    for t in range(timesteps):\n",
        "      constr += [u[i, t] <= (u_max-decay_rate*x[i, t-1])*(t>=arrival_time[i]),\n",
        "                 u[i, t] <= (u_max-decay_rate*x[i, t-1])*(t<dept_time[i]),\n",
        "                 ]\n",
        "\n",
        "for t in range (timesteps):\n",
        "    constr += [\n",
        "               cp.sum(u[0:num_of_vehicles,t]) <= power_capacity,\n",
        "    ]\n",
        "    obj += cp.sum(cp.log(u[:,t] + 0.0000001))\n",
        "\n",
        "obj -= cp.norm(x[:, -1] - x_terminal, 2)\n",
        "prob = cp.Problem(cp.Maximize(obj), constr)\n",
        "prob.solve()\n",
        "\n",
        "x_socmpc = x.value\n",
        "u_socmpc = u.value"
      ]
    },
    {
      "cell_type": "code",
      "execution_count": 83,
      "metadata": {
        "id": "lnKVTIaVIU8s"
      },
      "outputs": [
        {
          "name": "stderr",
          "output_type": "stream",
          "text": [
            "/Users/bb/opt/anaconda3/envs/ev1/lib/python3.8/site-packages/cvxpy/problems/problem.py:1333: UserWarning: Solution may be inaccurate. Try another solver, adjusting the solver settings, or solve with verbose=True for more information.\n",
            "  warnings.warn(\n"
          ]
        }
      ],
      "source": [
        "obj = 0\n",
        "constr = [x[:,0] == x0, \n",
        "          x[:,-1] <= x_terminal]\n",
        "\n",
        "for i in range(num_of_vehicles):\n",
        "    constr += [x[i,1:] == x[i,0:timesteps] + u[i,:],\n",
        "        u[i,:] >= 0,\n",
        "    ]\n",
        "    for t in range(timesteps):\n",
        "      constr += [u[i, t] <= (u_max[i])*(t>=arrival_time[i]),\n",
        "                 u[i, t] <= (u_max[i])*(t<dept_time[i]),\n",
        "                 ]\n",
        "\n",
        "for t in range (timesteps):\n",
        "    constr += [\n",
        "               cp.sum(u[0:num_of_vehicles,t]) <= power_capacity,\n",
        "    ]\n",
        "    obj += cp.sum(cp.log(u[:,t] + 0.0000001))\n",
        "    \n",
        "obj -= cp.norm(x[:, -1] - x_terminal, 2)\n",
        "prob = cp.Problem(cp.Maximize(obj), constr)\n",
        "prob.solve()\n",
        "\n",
        "x_mpc = x.value\n",
        "u_mpc = u.value"
      ]
    },
    {
      "cell_type": "code",
      "execution_count": 84,
      "metadata": {
        "colab": {
          "base_uri": "https://localhost:8080/"
        },
        "id": "JRLoT1M3L4Ae",
        "outputId": "16689fb8-fa3a-4da8-bd16-ee84d16e6dcf"
      },
      "outputs": [
        {
          "name": "stdout",
          "output_type": "stream",
          "text": [
            "time26,vehicle0 violates\n",
            "time16,vehicle1 violates\n",
            "time17,vehicle1 violates\n",
            "time18,vehicle1 violates\n",
            "time19,vehicle1 violates\n",
            "time20,vehicle1 violates\n",
            "time21,vehicle1 violates\n",
            "time22,vehicle1 violates\n",
            "time23,vehicle1 violates\n",
            "time24,vehicle1 violates\n",
            "time25,vehicle1 violates\n",
            "time25,vehicle7 violates\n",
            "time26,vehicle7 violates\n",
            "time27,vehicle7 violates\n",
            "time28,vehicle7 violates\n",
            "time29,vehicle7 violates\n",
            "time30,vehicle7 violates\n",
            "time31,vehicle7 violates\n",
            "time24,vehicle8 violates\n",
            "time25,vehicle8 violates\n",
            "time26,vehicle8 violates\n",
            "time27,vehicle8 violates\n",
            "time28,vehicle8 violates\n",
            "time29,vehicle8 violates\n",
            "time26,vehicle11 violates\n",
            "time27,vehicle11 violates\n",
            "time28,vehicle11 violates\n",
            "time29,vehicle11 violates\n",
            "time30,vehicle11 violates\n",
            "time58,vehicle21 violates\n",
            "time35,vehicle25 violates\n",
            "time50,vehicle26 violates\n",
            "time51,vehicle26 violates\n",
            "time52,vehicle26 violates\n",
            "time36,vehicle29 violates\n",
            "time37,vehicle29 violates\n",
            "time41,vehicle29 violates\n",
            "time42,vehicle29 violates\n",
            "time51,vehicle30 violates\n",
            "time53,vehicle32 violates\n",
            "time51,vehicle36 violates\n",
            "time52,vehicle36 violates\n",
            "time53,vehicle36 violates\n",
            "time54,vehicle36 violates\n",
            "time55,vehicle36 violates\n",
            "time60,vehicle38 violates\n",
            "time61,vehicle38 violates\n",
            "time62,vehicle38 violates\n",
            "time63,vehicle38 violates\n",
            "time64,vehicle38 violates\n",
            "time56,vehicle40 violates\n",
            "time57,vehicle40 violates\n",
            "time58,vehicle40 violates\n",
            "time59,vehicle40 violates\n",
            "time60,vehicle40 violates\n",
            "time61,vehicle40 violates\n",
            "time62,vehicle40 violates\n",
            "time63,vehicle40 violates\n",
            "time68,vehicle44 violates\n",
            "time69,vehicle44 violates\n",
            "time70,vehicle44 violates\n",
            "time71,vehicle44 violates\n",
            "time72,vehicle44 violates\n"
          ]
        }
      ],
      "source": [
        "x_mpc_proj = np.zeros_like(x_mpc)\n",
        "x_mpc_proj[:, 0] = x_mpc[:, 0]\n",
        "u_mpc_proj = np.zeros_like(u_mpc)\n",
        "\n",
        "## validate feasibility\n",
        "for i in range(num_of_vehicles):\n",
        "  for t in range(timesteps):\n",
        "    u_hat = u_max.value - decay_rate*x_mpc_proj[i, t]\n",
        "    if(u_mpc[i, t] >= u_hat+1e-5):\n",
        "      u_mpc_proj[i, t] = u_hat\n",
        "      print(f'time{t},vehicle{i} violates')\n",
        "    else:\n",
        "      u_mpc_proj[i, t] = u_mpc[i, t]\n",
        "    \n",
        "    x_mpc_proj[i, t+1] = x_mpc_proj[i, t] + u_mpc_proj[i, t]\n"
      ]
    },
    {
      "cell_type": "code",
      "execution_count": 66,
      "metadata": {
        "colab": {
          "base_uri": "https://localhost:8080/"
        },
        "id": "-JYE3hOfNAF5",
        "outputId": "a6fc75fb-e57e-45ed-a4d0-fcef8d3d07cf"
      },
      "outputs": [
        {
          "name": "stdout",
          "output_type": "stream",
          "text": [
            "Total energy delivery, soc MPC 182.17698590062832\n"
          ]
        }
      ],
      "source": [
        "print('Total energy delivery, soc MPC', np.sum(u_socmpc))"
      ]
    },
    {
      "cell_type": "code",
      "execution_count": 67,
      "metadata": {
        "colab": {
          "base_uri": "https://localhost:8080/"
        },
        "id": "5cY48XNFNDKU",
        "outputId": "c7acdbdd-9e59-4110-adad-936148b8b2e6"
      },
      "outputs": [
        {
          "name": "stdout",
          "output_type": "stream",
          "text": [
            "Total energy delivery, standard MPC 179.7527718209887\n"
          ]
        }
      ],
      "source": [
        "print('Total energy delivery, standard MPC', np.sum(u_mpc_proj))"
      ]
    },
    {
      "cell_type": "code",
      "execution_count": null,
      "metadata": {
        "colab": {
          "base_uri": "https://localhost:8080/",
          "height": 543
        },
        "id": "vEQmDkunuLBn",
        "outputId": "8739062e-e8de-476b-afe8-46033616373c"
      },
      "outputs": [
        {
          "data": {
            "image/png": "[encoded data removed]",
            "text/plain": [
              "<Figure size 432x288 with 1 Axes>"
            ]
          },
          "metadata": {
            "needs_background": "light"
          },
          "output_type": "display_data"
        },
        {
          "data": {
            "image/png": "[encoded data removed]",
            "text/plain": [
              "<Figure size 432x288 with 1 Axes>"
            ]
          },
          "metadata": {
            "needs_background": "light"
          },
          "output_type": "display_data"
        }
      ],
      "source": [
        "for i in range(46, 48): #num_of_vehicles\n",
        "  index = i\n",
        "  plt.figure()\n",
        "  plt.plot(x_mpc_proj[index]/battery_capacity, label = 'MPC', color = 'r')\n",
        "  plt.plot(x_socmpc[index]/battery_capacity, label = 'SOC_MPC', color = 'b')\n",
        "  plt.plot(final_energy[index]/battery_capacity*np.ones_like(x.value[0]), color='k', linestyle='--', label = 'desired')\n",
        "  plt.axvline(x=arrival_time[index], color='k', linestyle='--')\n",
        "  plt.axvline(x=dept_time[index], color='k', linestyle='--')\n",
        "  plt.legend()\n",
        "  plt.xlabel('Time')\n",
        "  plt.xlim([0, 96])\n",
        "  plt.ylabel('SoC')"
      ]
    },
    {
      "cell_type": "code",
      "execution_count": null,
      "metadata": {
        "colab": {
          "base_uri": "https://localhost:8080/",
          "height": 296
        },
        "id": "9wbeWNhT8qIK",
        "outputId": "4595adc4-3a55-4ac8-a8db-9fc02511dbb6"
      },
      "outputs": [
        {
          "data": {
            "text/plain": [
              "Text(0, 0.5, 'charging power')"
            ]
          },
          "execution_count": 31,
          "metadata": {},
          "output_type": "execute_result"
        },
        {
          "data": {
            "image/png": "[encoded data removed]",
            "text/plain": [
              "<Figure size 432x288 with 1 Axes>"
            ]
          },
          "metadata": {
            "needs_background": "light"
          },
          "output_type": "display_data"
        }
      ],
      "source": [
        "plt.figure()\n",
        "plt.plot(np.sum(u_mpc_proj, axis=0), label = 'MPC', color = 'r')\n",
        "plt.plot(np.sum(u_socmpc, axis=0), label = 'SOC_MPC', color = 'b')\n",
        "plt.legend()\n",
        "plt.xlabel('Time')\n",
        "plt.xlim([0, 96])\n",
        "plt.ylabel('charging power')"
      ]
    },
    {
      "cell_type": "code",
      "execution_count": 24,
      "metadata": {},
      "outputs": [
        {
          "data": {
            "text/plain": [
              "array([0., 0., 0., 0.])"
            ]
          },
          "execution_count": 24,
          "metadata": {},
          "output_type": "execute_result"
        }
      ],
      "source": [
        "np.zeros((4,))"
      ]
    },
    {
      "cell_type": "markdown",
      "metadata": {
        "id": "grtfCUYHcgU8"
      },
      "source": [
        "### Online Algorithm"
      ]
    },
    {
      "cell_type": "code",
      "execution_count": null,
      "metadata": {
        "id": "izYHnnf2ao3v"
      },
      "outputs": [],
      "source": [
        "def MPC_Solver(num_of_vehicles, timesteps, initial_states, max_power,\n",
        "               terminal_states, arrival_time, dept_time, power_capacity, plot_fig = False):\n",
        "    \n",
        "    # Requested end SoC for all vehicles\n",
        "    x_terminal=cp.Parameter(num_of_vehicles, name='x_terminal')\n",
        "    # Initial SoC for all vehicles\n",
        "    x0 = cp.Parameter(num_of_vehicles, name='x0')\n",
        "    # Peak charging power for the infrastructure\n",
        "    max_sum_u = cp.Parameter(name='max_sum_u')\n",
        "    # Maximum charging power for each vehicle at each time step\n",
        "    u_max = cp.Parameter(num_of_vehicles, name='u_max')\n",
        "    # SoC at each time step for each vehicle\n",
        "    x = cp.Variable((num_of_vehicles, timesteps+1), name='x')\n",
        "    # charging power at each time step for each vehicle\n",
        "    u = cp.Variable((num_of_vehicles, timesteps), name='u')\n",
        "\n",
        "    x_terminal.value=terminal_states\n",
        "    x0.value = initial_states\n",
        "    max_sum_u.value = power_capacity\n",
        "    u_max.value = max_power * np.ones((num_of_vehicles, ))\n",
        "\n",
        "    obj = 0\n",
        "    constr = [x[:,0] == x0, \n",
        "              x[:,-1] <= x_terminal]\n",
        "\n",
        "    for i in range(num_of_vehicles):\n",
        "        constr += [x[i,1:] == x[i,0:timesteps] + u[i,:],\n",
        "            u[i,:] >= 0,\n",
        "        ]\n",
        "        for t in range(timesteps):\n",
        "          constr += [u[i, t] <= (u_max[i])*(t>=arrival_time[i]),\n",
        "                    u[i, t] <= (u_max[i])*(t<dept_time[i]),\n",
        "                    ]\n",
        "\n",
        "    for t in range (timesteps):\n",
        "        constr += [\n",
        "                  cp.sum(u[0:num_of_vehicles,t]) <= power_capacity,\n",
        "        ]\n",
        "        obj += cp.sum(cp.log(u[:,t] + 0.0000001))\n",
        "\n",
        "    obj -= cp.norm(x[:, -1] - x_terminal, 2)\n",
        "    prob = cp.Problem(cp.Maximize(obj), constr)\n",
        "    prob.solve(verbose=True)\n",
        "    # obj = 0\n",
        "    # constr = [x[:,0] == x0, \n",
        "    #           x[:,-1] <= x_terminal+0.00001]\n",
        "\n",
        "    # for t in range(timesteps):\n",
        "    #     constr += [x[:,t+1] == x[:,t] + u[:,t],\n",
        "    #                u[:,t] <= u_max,\n",
        "    #                u[:,t] >= 0,\n",
        "    #                cp.sum(u[:,t]) <= power_capacity,\n",
        "    #                u[:,t] <= (t*np.ones_like(dept_time)<dept_time)*100.0+0.000001]\n",
        "    #     obj += cp.sum(cp.log(u[:,t]))\n",
        "    # obj -= cp.norm(x[:, -1]-x_terminal, 2)\n",
        "    # prob = cp.Problem(cp.Maximize(obj), constr)\n",
        "    # prob.solve()\n",
        "\n",
        "\n",
        "    # if plot_fig==True:\n",
        "    #   plt.plot(x.value[0])\n",
        "    #   plt.plot(u.value[0])\n",
        "    #   plt.show()\n",
        "\n",
        "    return x.value, u.value"
      ]
    },
    {
      "cell_type": "code",
      "execution_count": 6,
      "metadata": {
        "id": "Ta07AtWP1a6a"
      },
      "outputs": [],
      "source": [
        "initial_state_MPC = np.copy(initial_state)\n",
        "terminal_state_MPC = np.copy(final_energy)\n",
        "u_mpc_online = np.zeros((total_vehicles, num_steps), dtype=float)\n",
        "x_mpc_online = np.zeros((total_vehicles, num_steps+1), dtype=float)\n",
        "x_mpc_online[:, 0:int(arrival_time[0])+1] = initial_state_MPC.reshape((-1, 1))"
      ]
    },
    {
      "cell_type": "code",
      "execution_count": 19,
      "metadata": {},
      "outputs": [
        {
          "data": {
            "text/plain": [
              "3"
            ]
          },
          "execution_count": 19,
          "metadata": {},
          "output_type": "execute_result"
        }
      ],
      "source": [
        "len(np.array([1,2,3]))"
      ]
    },
    {
      "cell_type": "code",
      "execution_count": 15,
      "metadata": {
        "colab": {
          "base_uri": "https://localhost:8080/"
        },
        "id": "fjUKzQyX2MMm",
        "outputId": "938c9ab8-b72f-4316-8046-4ae7a04017a3"
      },
      "outputs": [
        {
          "name": "stdout",
          "output_type": "stream",
          "text": [
            "Current time 13\n",
            "current number of arrived cars 1 current number of charging cars 1\n"
          ]
        },
        {
          "ename": "NameError",
          "evalue": "name 'MPC_Solver' is not defined",
          "output_type": "error",
          "traceback": [
            "\u001b[0;31m---------------------------------------------------------------------------\u001b[0m",
            "\u001b[0;31mNameError\u001b[0m                                 Traceback (most recent call last)",
            "Input \u001b[0;32mIn [15]\u001b[0m, in \u001b[0;36m<cell line: 3>\u001b[0;34m()\u001b[0m\n\u001b[1;32m     22\u001b[0m depart_schedule\u001b[38;5;241m=\u001b[39mnp\u001b[38;5;241m.\u001b[39mcopy(depart_time[vehicle_starting_index:vehicle_ending_index])\n\u001b[1;32m     23\u001b[0m \u001b[38;5;66;03m# print('initial soc', step_initial_SOC)\u001b[39;00m\n\u001b[1;32m     24\u001b[0m \u001b[38;5;66;03m# print('terminal soc', step_terminal_SOC)\u001b[39;00m\n\u001b[1;32m     25\u001b[0m \u001b[38;5;66;03m# print('arrival_schedule', arrival_schedule)\u001b[39;00m\n\u001b[1;32m     26\u001b[0m \u001b[38;5;66;03m# print('depart_schedule', depart_schedule)\u001b[39;00m\n\u001b[0;32m---> 28\u001b[0m x_index, u_index \u001b[38;5;241m=\u001b[39m \u001b[43mMPC_Solver\u001b[49m(num_of_vehicles \u001b[38;5;241m=\u001b[39m step_num_of_vehicles, timesteps \u001b[38;5;241m=\u001b[39m num_steps\u001b[38;5;241m-\u001b[39mt, \n\u001b[1;32m     29\u001b[0m            initial_states \u001b[38;5;241m=\u001b[39m step_initial_SOC, terminal_states \u001b[38;5;241m=\u001b[39m step_terminal_SOC, \n\u001b[1;32m     30\u001b[0m            max_power \u001b[38;5;241m=\u001b[39m max_power, arrival_time \u001b[38;5;241m=\u001b[39m arrival_schedule\u001b[38;5;241m-\u001b[39mt, dept_time \u001b[38;5;241m=\u001b[39m depart_schedule\u001b[38;5;241m-\u001b[39mt, \n\u001b[1;32m     31\u001b[0m            power_capacity \u001b[38;5;241m=\u001b[39m power_budget, plot_fig \u001b[38;5;241m=\u001b[39m \u001b[38;5;28;01mFalse\u001b[39;00m)\n\u001b[1;32m     34\u001b[0m \u001b[38;5;66;03m# compute the maximum charging rate (soc curve)\u001b[39;00m\n\u001b[1;32m     35\u001b[0m u_hat \u001b[38;5;241m=\u001b[39m max_power \u001b[38;5;241m-\u001b[39m decay_rate\u001b[38;5;241m*\u001b[39mx_mpc_online[vehicle_starting_index:vehicle_ending_index, t]\u001b[38;5;241m/\u001b[39mbattery_capacity\n",
            "\u001b[0;31mNameError\u001b[0m: name 'MPC_Solver' is not defined"
          ]
        }
      ],
      "source": [
        "decay_rate = 0.5\n",
        "\n",
        "for t in range(int(arrival_time[0]), num_steps-7):\n",
        "    #Change this for variable case\n",
        "    power_budget = power_capacity \n",
        "\n",
        "    print(\"Current time\", t)\n",
        "\n",
        "    ## Cars [1, ..., VEI] arrive before the scheduling time \n",
        "    vehicle_ending_index = (arrival_time <= t).sum()\n",
        "    vehicle_starting_index = total_vehicles - (depart_time > t).sum()\n",
        "    step_num_of_vehicles = vehicle_ending_index - vehicle_starting_index\n",
        "    print(\"current number of arrived cars\", vehicle_ending_index, \"current number of charging cars\", step_num_of_vehicles)\n",
        "    \n",
        "    ## Obtain initial energy level of all cars\n",
        "    step_initial_SOC = np.copy(x_mpc_online[vehicle_starting_index:vehicle_ending_index, t])\n",
        "    ## Obtain required energy level of all cars\n",
        "    step_terminal_SOC = np.copy(terminal_state_MPC[vehicle_starting_index:vehicle_ending_index])\n",
        "    \n",
        "    ## Obtain arrival departure time for all current cars\n",
        "    arrival_schedule=np.copy(arrival_time[vehicle_starting_index:vehicle_ending_index])\n",
        "    depart_schedule=np.copy(depart_time[vehicle_starting_index:vehicle_ending_index])\n",
        "    # print('initial soc', step_initial_SOC)\n",
        "    # print('terminal soc', step_terminal_SOC)\n",
        "    # print('arrival_schedule', arrival_schedule)\n",
        "    # print('depart_schedule', depart_schedule)\n",
        "\n",
        "    x_index, u_index = MPC_Solver(num_of_vehicles = step_num_of_vehicles, timesteps = num_steps-t, \n",
        "               initial_states = step_initial_SOC, terminal_states = step_terminal_SOC, \n",
        "               max_power = max_power, arrival_time = arrival_schedule-t, dept_time = depart_schedule-t, \n",
        "               power_capacity = power_budget, plot_fig = False)\n",
        "    \n",
        "\n",
        "    # compute the maximum charging rate (soc curve)\n",
        "    u_hat = max_power - decay_rate*x_mpc_online[vehicle_starting_index:vehicle_ending_index, t]/battery_capacity\n",
        "\n",
        "    u_mpc_online[vehicle_starting_index:vehicle_ending_index, t] = np.minimum(u_index[:, 0], u_hat)\n",
        "    \n",
        "    x_mpc_online[vehicle_starting_index:vehicle_ending_index, t+1] = x_mpc_online[vehicle_starting_index:vehicle_ending_index, t] + u_mpc_online[vehicle_starting_index:vehicle_ending_index, t]\n"
      ]
    },
    {
      "cell_type": "code",
      "execution_count": 23,
      "metadata": {},
      "outputs": [
        {
          "ename": "TypeError",
          "evalue": "only integer scalar arrays can be converted to a scalar index",
          "output_type": "error",
          "traceback": [
            "\u001b[0;31m---------------------------------------------------------------------------\u001b[0m",
            "\u001b[0;31mTypeError\u001b[0m                                 Traceback (most recent call last)",
            "Input \u001b[0;32mIn [23]\u001b[0m, in \u001b[0;36m<cell line: 1>\u001b[0;34m()\u001b[0m\n\u001b[0;32m----> 1\u001b[0m \u001b[43mnp\u001b[49m\u001b[38;5;241;43m.\u001b[39;49m\u001b[43mmin\u001b[49m\u001b[43m(\u001b[49m\u001b[43mnp\u001b[49m\u001b[38;5;241;43m.\u001b[39;49m\u001b[43marray\u001b[49m\u001b[43m(\u001b[49m\u001b[43m[\u001b[49m\u001b[38;5;241;43m1\u001b[39;49m\u001b[43m,\u001b[49m\u001b[38;5;241;43m1\u001b[39;49m\u001b[43m,\u001b[49m\u001b[38;5;241;43m1\u001b[39;49m\u001b[43m]\u001b[49m\u001b[43m)\u001b[49m\u001b[43m,\u001b[49m\u001b[43mnp\u001b[49m\u001b[38;5;241;43m.\u001b[39;49m\u001b[43marray\u001b[49m\u001b[43m(\u001b[49m\u001b[43m[\u001b[49m\u001b[38;5;241;43m-\u001b[39;49m\u001b[38;5;241;43m1\u001b[39;49m\u001b[43m,\u001b[49m\u001b[38;5;241;43m4\u001b[39;49m\u001b[43m,\u001b[49m\u001b[38;5;241;43m3\u001b[39;49m\u001b[43m]\u001b[49m\u001b[43m)\u001b[49m\u001b[43m)\u001b[49m\n",
            "File \u001b[0;32m<__array_function__ internals>:180\u001b[0m, in \u001b[0;36mamin\u001b[0;34m(*args, **kwargs)\u001b[0m\n",
            "File \u001b[0;32m~/opt/anaconda3/envs/ev1/lib/python3.8/site-packages/numpy/core/fromnumeric.py:2916\u001b[0m, in \u001b[0;36mamin\u001b[0;34m(a, axis, out, keepdims, initial, where)\u001b[0m\n\u001b[1;32m   2800\u001b[0m \u001b[38;5;129m@array_function_dispatch\u001b[39m(_amin_dispatcher)\n\u001b[1;32m   2801\u001b[0m \u001b[38;5;28;01mdef\u001b[39;00m \u001b[38;5;21mamin\u001b[39m(a, axis\u001b[38;5;241m=\u001b[39m\u001b[38;5;28;01mNone\u001b[39;00m, out\u001b[38;5;241m=\u001b[39m\u001b[38;5;28;01mNone\u001b[39;00m, keepdims\u001b[38;5;241m=\u001b[39mnp\u001b[38;5;241m.\u001b[39m_NoValue, initial\u001b[38;5;241m=\u001b[39mnp\u001b[38;5;241m.\u001b[39m_NoValue,\n\u001b[1;32m   2802\u001b[0m          where\u001b[38;5;241m=\u001b[39mnp\u001b[38;5;241m.\u001b[39m_NoValue):\n\u001b[1;32m   2803\u001b[0m     \u001b[38;5;124;03m\"\"\"\u001b[39;00m\n\u001b[1;32m   2804\u001b[0m \u001b[38;5;124;03m    Return the minimum of an array or minimum along an axis.\u001b[39;00m\n\u001b[1;32m   2805\u001b[0m \n\u001b[0;32m   (...)\u001b[0m\n\u001b[1;32m   2914\u001b[0m \u001b[38;5;124;03m    6\u001b[39;00m\n\u001b[1;32m   2915\u001b[0m \u001b[38;5;124;03m    \"\"\"\u001b[39;00m\n\u001b[0;32m-> 2916\u001b[0m     \u001b[38;5;28;01mreturn\u001b[39;00m \u001b[43m_wrapreduction\u001b[49m\u001b[43m(\u001b[49m\u001b[43ma\u001b[49m\u001b[43m,\u001b[49m\u001b[43m \u001b[49m\u001b[43mnp\u001b[49m\u001b[38;5;241;43m.\u001b[39;49m\u001b[43mminimum\u001b[49m\u001b[43m,\u001b[49m\u001b[43m \u001b[49m\u001b[38;5;124;43m'\u001b[39;49m\u001b[38;5;124;43mmin\u001b[39;49m\u001b[38;5;124;43m'\u001b[39;49m\u001b[43m,\u001b[49m\u001b[43m \u001b[49m\u001b[43maxis\u001b[49m\u001b[43m,\u001b[49m\u001b[43m \u001b[49m\u001b[38;5;28;43;01mNone\u001b[39;49;00m\u001b[43m,\u001b[49m\u001b[43m \u001b[49m\u001b[43mout\u001b[49m\u001b[43m,\u001b[49m\n\u001b[1;32m   2917\u001b[0m \u001b[43m                          \u001b[49m\u001b[43mkeepdims\u001b[49m\u001b[38;5;241;43m=\u001b[39;49m\u001b[43mkeepdims\u001b[49m\u001b[43m,\u001b[49m\u001b[43m \u001b[49m\u001b[43minitial\u001b[49m\u001b[38;5;241;43m=\u001b[39;49m\u001b[43minitial\u001b[49m\u001b[43m,\u001b[49m\u001b[43m \u001b[49m\u001b[43mwhere\u001b[49m\u001b[38;5;241;43m=\u001b[39;49m\u001b[43mwhere\u001b[49m\u001b[43m)\u001b[49m\n",
            "File \u001b[0;32m~/opt/anaconda3/envs/ev1/lib/python3.8/site-packages/numpy/core/fromnumeric.py:86\u001b[0m, in \u001b[0;36m_wrapreduction\u001b[0;34m(obj, ufunc, method, axis, dtype, out, **kwargs)\u001b[0m\n\u001b[1;32m     83\u001b[0m         \u001b[38;5;28;01melse\u001b[39;00m:\n\u001b[1;32m     84\u001b[0m             \u001b[38;5;28;01mreturn\u001b[39;00m reduction(axis\u001b[38;5;241m=\u001b[39maxis, out\u001b[38;5;241m=\u001b[39mout, \u001b[38;5;241m*\u001b[39m\u001b[38;5;241m*\u001b[39mpasskwargs)\n\u001b[0;32m---> 86\u001b[0m \u001b[38;5;28;01mreturn\u001b[39;00m \u001b[43mufunc\u001b[49m\u001b[38;5;241;43m.\u001b[39;49m\u001b[43mreduce\u001b[49m\u001b[43m(\u001b[49m\u001b[43mobj\u001b[49m\u001b[43m,\u001b[49m\u001b[43m \u001b[49m\u001b[43maxis\u001b[49m\u001b[43m,\u001b[49m\u001b[43m \u001b[49m\u001b[43mdtype\u001b[49m\u001b[43m,\u001b[49m\u001b[43m \u001b[49m\u001b[43mout\u001b[49m\u001b[43m,\u001b[49m\u001b[43m \u001b[49m\u001b[38;5;241;43m*\u001b[39;49m\u001b[38;5;241;43m*\u001b[39;49m\u001b[43mpasskwargs\u001b[49m\u001b[43m)\u001b[49m\n",
            "\u001b[0;31mTypeError\u001b[0m: only integer scalar arrays can be converted to a scalar index"
          ]
        }
      ],
      "source": [
        "np.min(np.array([1,1,1]),np.array([-1,4,3]))"
      ]
    },
    {
      "cell_type": "code",
      "execution_count": null,
      "metadata": {
        "colab": {
          "base_uri": "https://localhost:8080/",
          "height": 296
        },
        "id": "uhKq_m_D62_K",
        "outputId": "a3e10e51-85de-4092-9127-782fb4e17d46"
      },
      "outputs": [
        {
          "data": {
            "text/plain": [
              "Text(0, 0.5, 'charging power')"
            ]
          },
          "execution_count": 370,
          "metadata": {},
          "output_type": "execute_result"
        },
        {
          "data": {
            "image/png": "[encoded data removed]",
            "text/plain": [
              "<Figure size 432x288 with 1 Axes>"
            ]
          },
          "metadata": {
            "needs_background": "light"
          },
          "output_type": "display_data"
        }
      ],
      "source": [
        "plt.figure()\n",
        "plt.plot(np.sum(u_mpc, axis=0), label = 'Offline MPC', color = 'r')\n",
        "plt.plot(np.sum(u_mpc_online, axis=0), label = 'Online MPC', color = 'b')\n",
        "plt.legend()\n",
        "plt.xlabel('Time')\n",
        "plt.xlim([0, 96])\n",
        "plt.ylabel('charging power')"
      ]
    },
    {
      "cell_type": "code",
      "execution_count": null,
      "metadata": {
        "id": "gn8cdd71lN7E"
      },
      "outputs": [],
      "source": [
        "#Consider SOC level for the maximum charging power\n",
        "def MPC_SOC_Solver(num_of_vehicles, timesteps, initial_states,\n",
        "                   max_power, terminal_states, dept_time,\n",
        "                   power_capacity, decay_rate, plot_fig = False):\n",
        "\n",
        "    x_terminal=cp.Parameter(num_of_vehicles, name='x_terminal')\n",
        "    x0 = cp.Parameter(num_of_vehicles, name='x0')\n",
        "    max_sum_u = cp.Parameter(name='max_sum_u')\n",
        "    u_max = cp.Parameter(timesteps, name='u_max')\n",
        "    x = cp.Variable((num_of_vehicles, timesteps+1), name='x')\n",
        "    u = cp.Variable((num_of_vehicles, timesteps), name='u')\n",
        "\n",
        "    x_terminal.value=terminal_states\n",
        "    x0.value = initial_states\n",
        "    max_sum_u.value = power_capacity\n",
        "    u_max.value = max_power * np.ones((timesteps, ))\n",
        "\n",
        "    obj = 0\n",
        "    constr = [x[:,0] == x0, x[:,-1] <= x_terminal]\n",
        "\n",
        "    for i in range(num_of_vehicles):\n",
        "        constr +=[x[i,1:] == x[i,0:timesteps] + u[i,:],\n",
        "            u[i,:] <= u_max,\n",
        "            u[i,:] >= 0,\n",
        "            u[i,:] <= (u_max[i]-decay_rate*x[i, :-1]/battery_capacity)\n",
        "        ]\n",
        "\n",
        "    for t in range (timesteps):\n",
        "        constr += [\n",
        "                   cp.sum(u[:,t]) <= max_sum_u,\n",
        "                   u[:,t] <= (t*np.ones_like(dept_time)<dept_time)*100.0+0.000001,\n",
        "        ]\n",
        "        obj += cp.sum(cp.log(u[:,t]))\n",
        "\n",
        "    obj -= cp.norm(x[:, -1] - x_terminal, 2)\n",
        "    prob = cp.Problem(cp.Maximize(obj), constr)\n",
        "    prob.solve()\n",
        "\n",
        "    if plot_fig==True:\n",
        "        plt.plot(x.value[0])\n",
        "        plt.plot(u.value[0])\n",
        "        plt.show()\n",
        "\n",
        "    return x.value, u.value"
      ]
    },
    {
      "cell_type": "code",
      "execution_count": null,
      "metadata": {
        "id": "HWgh8_m8_pxW"
      },
      "outputs": [],
      "source": [
        "initial_state_MPCSOC = np.copy(initial_state)\n",
        "terminal_state_MPCSOC = np.copy(final_energy)\n",
        "u_mpcsoc_online = np.zeros((total_vehicles, num_steps), dtype=float)\n",
        "x_mpcsoc_online = np.zeros((total_vehicles, num_steps+1), dtype=float)\n",
        "x_mpcsoc_online[:, 0:int(arrival_time[0])+1] = initial_state_MPCSOC.reshape((-1, 1))"
      ]
    },
    {
      "cell_type": "code",
      "execution_count": null,
      "metadata": {
        "colab": {
          "base_uri": "https://localhost:8080/"
        },
        "id": "Qic8TsvCcS0o",
        "outputId": "8900df3f-912d-40f7-f055-fd2fd6422671"
      },
      "outputs": [
        {
          "name": "stdout",
          "output_type": "stream",
          "text": [
            "Current time 11\n",
            "current number of arrived cars 1 current number of charging cars 1\n",
            "Current time 12\n",
            "current number of arrived cars 1 current number of charging cars 1\n",
            "Current time 13\n",
            "current number of arrived cars 2 current number of charging cars 2\n",
            "Current time 14\n",
            "current number of arrived cars 2 current number of charging cars 2\n",
            "Current time 15\n",
            "current number of arrived cars 3 current number of charging cars 3\n",
            "Current time 16\n",
            "current number of arrived cars 4 current number of charging cars 4\n",
            "Current time 17\n",
            "current number of arrived cars 4 current number of charging cars 4\n",
            "Current time 18\n",
            "current number of arrived cars 4 current number of charging cars 4\n",
            "Current time 19\n",
            "current number of arrived cars 4 current number of charging cars 4\n",
            "Current time 20\n",
            "current number of arrived cars 5 current number of charging cars 5\n",
            "Current time 21\n",
            "current number of arrived cars 5 current number of charging cars 5\n",
            "Current time 22\n",
            "current number of arrived cars 10 current number of charging cars 10\n",
            "Current time 23\n",
            "current number of arrived cars 10 current number of charging cars 10\n",
            "Current time 24\n",
            "current number of arrived cars 11 current number of charging cars 11\n",
            "Current time 25\n",
            "current number of arrived cars 12 current number of charging cars 12\n",
            "Current time 26\n",
            "current number of arrived cars 12 current number of charging cars 10\n",
            "Current time 27\n",
            "current number of arrived cars 12 current number of charging cars 9\n",
            "Current time 28\n",
            "current number of arrived cars 13 current number of charging cars 9\n",
            "Current time 29\n",
            "current number of arrived cars 14 current number of charging cars 10\n",
            "Current time 30\n",
            "current number of arrived cars 15 current number of charging cars 10\n",
            "Current time 31\n",
            "current number of arrived cars 16 current number of charging cars 10\n",
            "Current time 32\n",
            "current number of arrived cars 20 current number of charging cars 13\n",
            "Current time 33\n",
            "current number of arrived cars 21 current number of charging cars 14\n",
            "Current time 34\n",
            "current number of arrived cars 23 current number of charging cars 16\n",
            "Current time 35\n",
            "current number of arrived cars 23 current number of charging cars 16\n",
            "Current time 36\n",
            "current number of arrived cars 27 current number of charging cars 20\n",
            "Current time 37\n",
            "current number of arrived cars 28 current number of charging cars 21\n",
            "Current time 38\n",
            "current number of arrived cars 31 current number of charging cars 22\n",
            "Current time 39\n",
            "current number of arrived cars 31 current number of charging cars 22\n",
            "Current time 40\n",
            "current number of arrived cars 31 current number of charging cars 22\n",
            "Current time 41\n",
            "current number of arrived cars 34 current number of charging cars 25\n",
            "Current time 42\n",
            "current number of arrived cars 36 current number of charging cars 27\n",
            "Current time 43\n",
            "current number of arrived cars 38 current number of charging cars 29\n",
            "Current time 44\n",
            "current number of arrived cars 38 current number of charging cars 29\n",
            "Current time 45\n",
            "current number of arrived cars 39 current number of charging cars 29\n",
            "Current time 46\n",
            "current number of arrived cars 40 current number of charging cars 30\n",
            "Current time 47\n",
            "current number of arrived cars 41 current number of charging cars 29\n",
            "Current time 48\n",
            "current number of arrived cars 41 current number of charging cars 29\n",
            "Current time 49\n",
            "current number of arrived cars 42 current number of charging cars 29\n",
            "Current time 50\n",
            "current number of arrived cars 42 current number of charging cars 24\n",
            "Current time 51\n",
            "current number of arrived cars 43 current number of charging cars 22\n",
            "Current time 52\n",
            "current number of arrived cars 43 current number of charging cars 20\n",
            "Current time 53\n",
            "current number of arrived cars 44 current number of charging cars 20\n",
            "Current time 54\n",
            "current number of arrived cars 44 current number of charging cars 19\n",
            "Current time 55\n",
            "current number of arrived cars 45 current number of charging cars 19\n",
            "Current time 56\n",
            "current number of arrived cars 45 current number of charging cars 17\n",
            "Current time 57\n",
            "current number of arrived cars 46 current number of charging cars 17\n",
            "Current time 58\n",
            "current number of arrived cars 47 current number of charging cars 18\n",
            "Current time 59\n",
            "current number of arrived cars 48 current number of charging cars 16\n",
            "Current time 60\n",
            "current number of arrived cars 48 current number of charging cars 16\n",
            "Current time 61\n",
            "current number of arrived cars 48 current number of charging cars 16\n",
            "Current time 62\n",
            "current number of arrived cars 48 current number of charging cars 15\n",
            "Current time 63\n",
            "current number of arrived cars 48 current number of charging cars 12\n",
            "Current time 64\n",
            "current number of arrived cars 48 current number of charging cars 10\n",
            "Current time 65\n",
            "current number of arrived cars 48 current number of charging cars 7\n",
            "Current time 66\n",
            "current number of arrived cars 48 current number of charging cars 7\n",
            "Current time 67\n",
            "current number of arrived cars 49 current number of charging cars 8\n",
            "Current time 68\n",
            "current number of arrived cars 49 current number of charging cars 8\n",
            "Current time 69\n",
            "current number of arrived cars 49 current number of charging cars 8\n",
            "Current time 70\n",
            "current number of arrived cars 50 current number of charging cars 9\n",
            "Current time 71\n",
            "current number of arrived cars 50 current number of charging cars 8\n",
            "Current time 72\n",
            "current number of arrived cars 50 current number of charging cars 8\n",
            "Current time 73\n",
            "current number of arrived cars 50 current number of charging cars 7\n",
            "Current time 74\n",
            "current number of arrived cars 50 current number of charging cars 7\n",
            "Current time 75\n",
            "current number of arrived cars 50 current number of charging cars 7\n",
            "Current time 76\n",
            "current number of arrived cars 50 current number of charging cars 7\n",
            "Current time 77\n",
            "current number of arrived cars 50 current number of charging cars 7\n",
            "Current time 78\n",
            "current number of arrived cars 50 current number of charging cars 6\n",
            "Current time 79\n",
            "current number of arrived cars 50 current number of charging cars 6\n",
            "Current time 80\n",
            "current number of arrived cars 50 current number of charging cars 6\n",
            "Current time 81\n",
            "current number of arrived cars 50 current number of charging cars 6\n",
            "Current time 82\n",
            "current number of arrived cars 50 current number of charging cars 6\n",
            "Current time 83\n",
            "current number of arrived cars 50 current number of charging cars 6\n",
            "Current time 84\n",
            "current number of arrived cars 50 current number of charging cars 5\n",
            "Current time 85\n",
            "current number of arrived cars 50 current number of charging cars 4\n",
            "Current time 86\n",
            "current number of arrived cars 50 current number of charging cars 4\n",
            "Current time 87\n",
            "current number of arrived cars 50 current number of charging cars 3\n",
            "Current time 88\n",
            "current number of arrived cars 50 current number of charging cars 3\n"
          ]
        }
      ],
      "source": [
        "decay_rate = 0.5\n",
        "\n",
        "for t in range(int(arrival_time[0]), num_steps-7):\n",
        "    #Change this for variable case\n",
        "    power_budget = power_capacity \n",
        "\n",
        "    print(\"Current time\", t)\n",
        "\n",
        "    ## Cars [1, ..., VEI] arrive before the scheduling time \n",
        "    vehicle_ending_index = (arrival_time <= t).sum()\n",
        "    vehicle_starting_index = total_vehicles - (depart_time > t).sum()\n",
        "    step_num_of_vehicles = vehicle_ending_index - vehicle_starting_index\n",
        "    print(\"current number of arrived cars\", vehicle_ending_index, \"current number of charging cars\", step_num_of_vehicles)\n",
        "    \n",
        "    ## Obtain initial energy level of all cars\n",
        "    step_initial_SOC = np.copy(x_mpcsoc_online[vehicle_starting_index:vehicle_ending_index, t])\n",
        "    ## Obtain required energy level of all cars\n",
        "    step_terminal_SOC = np.copy(terminal_state_MPCSOC[vehicle_starting_index:vehicle_ending_index])\n",
        "    \n",
        "    ## Obtain arrival departure time for all current cars\n",
        "    arrival_schedule=np.copy(arrival_time[vehicle_starting_index:vehicle_ending_index])\n",
        "    depart_schedule=np.copy(depart_time[vehicle_starting_index:vehicle_ending_index])\n",
        "    # print('initial soc', step_initial_SOC)\n",
        "    # print('terminal soc', step_terminal_SOC)\n",
        "    # print('arrival_schedule', arrival_schedule)\n",
        "    # print('depart_schedule', depart_schedule)\n",
        "\n",
        "    x_index, u_index = MPC_SOC_Solver(num_of_vehicles = step_num_of_vehicles, timesteps = num_steps-t, \n",
        "               initial_states = step_initial_SOC, terminal_states = step_terminal_SOC, \n",
        "               max_power = max_power, dept_time = depart_schedule-t, \n",
        "               power_capacity = power_budget, decay_rate = decay_rate, plot_fig = False)\n",
        "    \n",
        "\n",
        "    # compute the maximum charging rate (soc curve)\n",
        "    u_hat = max_power - decay_rate*x_mpcsoc_online[vehicle_starting_index:vehicle_ending_index, t]/battery_capacity\n",
        "\n",
        "    u_mpcsoc_online[vehicle_starting_index:vehicle_ending_index, t] = np.minimum(u_index[:, 0], u_hat)\n",
        "    \n",
        "    x_mpcsoc_online[vehicle_starting_index:vehicle_ending_index, t+1] = (x_mpcsoc_online[vehicle_starting_index:vehicle_ending_index, t] \n",
        "                                                                         + u_mpcsoc_online[vehicle_starting_index:vehicle_ending_index, t])\n"
      ]
    },
    {
      "cell_type": "code",
      "execution_count": null,
      "metadata": {
        "colab": {
          "base_uri": "https://localhost:8080/",
          "height": 296
        },
        "id": "oXFuU9W3dIGm",
        "outputId": "90960a00-df55-4d05-f3dd-de113a56b2f9"
      },
      "outputs": [
        {
          "data": {
            "text/plain": [
              "Text(0, 0.5, 'charging power')"
            ]
          },
          "execution_count": 372,
          "metadata": {},
          "output_type": "execute_result"
        },
        {
          "data": {
            "image/png": "[encoded data removed]",
            "text/plain": [
              "<Figure size 432x288 with 1 Axes>"
            ]
          },
          "metadata": {
            "needs_background": "light"
          },
          "output_type": "display_data"
        }
      ],
      "source": [
        "plt.figure()\n",
        "plt.plot(np.sum(u_mpc_online, axis=0), label = 'Online MPC', color = 'r')\n",
        "plt.plot(np.sum(u_mpcsoc_online, axis=0), label = 'Online MPC_SOC', color = 'b')\n",
        "plt.legend()\n",
        "plt.xlabel('Time')\n",
        "plt.xlim([0, 96])\n",
        "plt.ylabel('charging power')"
      ]
    },
    {
      "cell_type": "code",
      "execution_count": null,
      "metadata": {
        "colab": {
          "base_uri": "https://localhost:8080/"
        },
        "id": "Mlsw5cOBdrSQ",
        "outputId": "f2173790-83cf-4ff7-b466-80599d536b32"
      },
      "outputs": [
        {
          "name": "stdout",
          "output_type": "stream",
          "text": [
            "Total energy delivery, soc MPC 74.77055150268424\n"
          ]
        }
      ],
      "source": [
        "print('Total energy delivery, soc MPC', np.sum(u_mpc_online))"
      ]
    },
    {
      "cell_type": "code",
      "execution_count": null,
      "metadata": {
        "colab": {
          "base_uri": "https://localhost:8080/"
        },
        "id": "MJ7AYSV7evEM",
        "outputId": "0ea134aa-80b0-4bb6-a7a9-b74cd6ecebe1"
      },
      "outputs": [
        {
          "name": "stdout",
          "output_type": "stream",
          "text": [
            "Total energy delivery, soc MPC 75.35619444344334\n"
          ]
        }
      ],
      "source": [
        "print('Total energy delivery, soc MPC', np.sum(u_mpcsoc_online))"
      ]
    },
    {
      "cell_type": "code",
      "execution_count": null,
      "metadata": {
        "colab": {
          "base_uri": "https://localhost:8080/"
        },
        "id": "tNdaPmMpexCa",
        "outputId": "0f870a14-d79f-43c5-ff8f-25fb189e9389"
      },
      "outputs": [
        {
          "data": {
            "text/plain": [
              "0.00783253472108035"
            ]
          },
          "execution_count": 378,
          "metadata": {},
          "output_type": "execute_result"
        }
      ],
      "source": [
        "(np.sum(u_mpcsoc_online)-np.sum(u_mpc_online))/np.sum(u_mpc_online)"
      ]
    },
    {
      "cell_type": "code",
      "execution_count": null,
      "metadata": {
        "id": "AQGReDvxe1G7"
      },
      "outputs": [],
      "source": []
    },
    {
      "cell_type": "code",
      "execution_count": null,
      "metadata": {
        "id": "qom9qrvL387E"
      },
      "outputs": [],
      "source": []
    },
    {
      "cell_type": "code",
      "execution_count": null,
      "metadata": {
        "id": "kNqPCLW-5xpA"
      },
      "outputs": [],
      "source": []
    }
  ],
  "metadata": {
    "colab": {
      "collapsed_sections": [
        "jc7_XUTvcl1z"
      ],
      "name": "EV_charging.ipynb",
      "provenance": []
    },
    "interpreter": {
      "hash": "b21ebcbde1ae205617ba79cc7daedad1cb6102881e96a88dc7c8130139a54e33"
    },
    "kernelspec": {
      "display_name": "Python 3.8.13 64-bit ('ev1': conda)",
      "name": "python3"
    },
    "language_info": {
      "codemirror_mode": {
        "name": "ipython",
        "version": 3
      },
      "file_extension": ".py",
      "mimetype": "text/x-python",
      "name": "python",
      "nbconvert_exporter": "python",
      "pygments_lexer": "ipython3",
      "version": "3.8.13"
    }
  },
  "nbformat": 4,
  "nbformat_minor": 0
}
